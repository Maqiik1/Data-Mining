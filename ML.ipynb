{
 "cells": [
  {
   "cell_type": "markdown",
   "metadata": {},
   "source": [
    "# Part 2: Feature Construction, Classification and Evaluation"
   ]
  },
  {
   "cell_type": "markdown",
   "metadata": {},
   "source": [
    "## Import of packages"
   ]
  },
  {
   "cell_type": "code",
   "execution_count": 2,
   "metadata": {},
   "outputs": [],
   "source": [
    "import os\n",
    "import pandas as pd\n",
    "from bs4 import BeautifulSoup\n",
    "from sklearn.feature_extraction.text import CountVectorizer\n",
    "from sklearn.feature_extraction.text import TfidfTransformer\n",
    "from sklearn.naive_bayes import MultinomialNB\n",
    "from sklearn.metrics import *\n",
    "from sklearn.neighbors import KNeighborsClassifier\n",
    "from sklearn import metrics\n",
    "from sklearn.preprocessing import OneHotEncoder\n",
    "from sklearn.compose import ColumnTransformer\n",
    "from sklearn.preprocessing import LabelEncoder\n",
    "from sklearn.tree import DecisionTreeClassifier\n",
    "from sklearn.linear_model import RidgeClassifier\n",
    "from sklearn.model_selection import cross_val_score\n",
    "import numpy as np\n",
    "import scipy.stats as st\n",
    "from sklearn.dummy import DummyClassifier\n",
    "from scipy.stats import ttest_rel"
   ]
  },
  {
   "cell_type": "markdown",
   "metadata": {},
   "source": [
    "## Define function and data loading"
   ]
  },
  {
   "cell_type": "code",
   "execution_count": 3,
   "metadata": {},
   "outputs": [],
   "source": [
    "def read_data(path):\n",
    "    # Create an empty DataFrame to store the data, with two fields: the text and the category\n",
    "    data = pd.DataFrame(index=[], columns=['text','category'])\n",
    "    # Lists the content of a directory; we use two loops because or files are stored into subdirectories\n",
    "    i = 0\n",
    "    for cat in os.listdir(path):\n",
    "        for f in os.listdir(os.path.join(path, cat)):    \n",
    "            content = open(os.path.join(path, cat, f)).read()\n",
    "            data.loc[i] = [content, cat]\n",
    "            i = i + 1\n",
    "    return data\n",
    "\n",
    "os.chdir('C:\\\\Users\\\\Marie.Zamecnikova\\\\OneDrive - Ecorys\\\\Desktop\\\\Data\\\\Data')"
   ]
  },
  {
   "cell_type": "markdown",
   "metadata": {},
   "source": [
    "## Use of training data"
   ]
  },
  {
   "cell_type": "code",
   "execution_count": 4,
   "metadata": {},
   "outputs": [
    {
     "name": "stdout",
     "output_type": "stream",
     "text": [
      "(2464, 2)\n"
     ]
    },
    {
     "data": {
      "text/html": [
       "<div>\n",
       "<style scoped>\n",
       "    .dataframe tbody tr th:only-of-type {\n",
       "        vertical-align: middle;\n",
       "    }\n",
       "\n",
       "    .dataframe tbody tr th {\n",
       "        vertical-align: top;\n",
       "    }\n",
       "\n",
       "    .dataframe thead th {\n",
       "        text-align: right;\n",
       "    }\n",
       "</style>\n",
       "<table border=\"1\" class=\"dataframe\">\n",
       "  <thead>\n",
       "    <tr style=\"text-align: right;\">\n",
       "      <th></th>\n",
       "      <th>text</th>\n",
       "      <th>category</th>\n",
       "    </tr>\n",
       "  </thead>\n",
       "  <tbody>\n",
       "    <tr>\n",
       "      <th>0</th>\n",
       "      <td>&lt;HEAD&gt;\\n&lt;TITLE&gt;CSE 121/131 Home Page&lt;/TITLE&gt;\\n...</td>\n",
       "      <td>course</td>\n",
       "    </tr>\n",
       "    <tr>\n",
       "      <th>1</th>\n",
       "      <td>Date: Tue, 26 Nov 1996 19:10:40 GMT\\nServer: N...</td>\n",
       "      <td>course</td>\n",
       "    </tr>\n",
       "    <tr>\n",
       "      <th>2</th>\n",
       "      <td>Date: Tue, 26 Nov 1996 19:12:30 GMT\\nServer: N...</td>\n",
       "      <td>course</td>\n",
       "    </tr>\n",
       "    <tr>\n",
       "      <th>3</th>\n",
       "      <td>Date: Tuesday, 26-Nov-96 19:09:20 GMT\\nServer:...</td>\n",
       "      <td>course</td>\n",
       "    </tr>\n",
       "    <tr>\n",
       "      <th>4</th>\n",
       "      <td>Date: Tuesday, 26-Nov-96 19:07:04 GMT\\nServer:...</td>\n",
       "      <td>course</td>\n",
       "    </tr>\n",
       "    <tr>\n",
       "      <th>...</th>\n",
       "      <td>...</td>\n",
       "      <td>...</td>\n",
       "    </tr>\n",
       "    <tr>\n",
       "      <th>2459</th>\n",
       "      <td>Date: Tue, 26 Nov 1996 03:44:55 GMT\\nServer: N...</td>\n",
       "      <td>student</td>\n",
       "    </tr>\n",
       "    <tr>\n",
       "      <th>2460</th>\n",
       "      <td>Date: Tue, 26 Nov 1996 03:44:12 GMT\\nServer: N...</td>\n",
       "      <td>student</td>\n",
       "    </tr>\n",
       "    <tr>\n",
       "      <th>2461</th>\n",
       "      <td>Date: Tue, 26 Nov 1996 03:43:32 GMT\\nServer: N...</td>\n",
       "      <td>student</td>\n",
       "    </tr>\n",
       "    <tr>\n",
       "      <th>2462</th>\n",
       "      <td>Date: Tue, 26 Nov 1996 03:43:51 GMT\\nServer: N...</td>\n",
       "      <td>student</td>\n",
       "    </tr>\n",
       "    <tr>\n",
       "      <th>2463</th>\n",
       "      <td>Date: Tue, 26 Nov 1996 03:44:48 GMT\\nServer: N...</td>\n",
       "      <td>student</td>\n",
       "    </tr>\n",
       "  </tbody>\n",
       "</table>\n",
       "<p>2464 rows × 2 columns</p>\n",
       "</div>"
      ],
      "text/plain": [
       "                                                   text category\n",
       "0     <HEAD>\\n<TITLE>CSE 121/131 Home Page</TITLE>\\n...   course\n",
       "1     Date: Tue, 26 Nov 1996 19:10:40 GMT\\nServer: N...   course\n",
       "2     Date: Tue, 26 Nov 1996 19:12:30 GMT\\nServer: N...   course\n",
       "3     Date: Tuesday, 26-Nov-96 19:09:20 GMT\\nServer:...   course\n",
       "4     Date: Tuesday, 26-Nov-96 19:07:04 GMT\\nServer:...   course\n",
       "...                                                 ...      ...\n",
       "2459  Date: Tue, 26 Nov 1996 03:44:55 GMT\\nServer: N...  student\n",
       "2460  Date: Tue, 26 Nov 1996 03:44:12 GMT\\nServer: N...  student\n",
       "2461  Date: Tue, 26 Nov 1996 03:43:32 GMT\\nServer: N...  student\n",
       "2462  Date: Tue, 26 Nov 1996 03:43:51 GMT\\nServer: N...  student\n",
       "2463  Date: Tue, 26 Nov 1996 03:44:48 GMT\\nServer: N...  student\n",
       "\n",
       "[2464 rows x 2 columns]"
      ]
     },
     "execution_count": 4,
     "metadata": {},
     "output_type": "execute_result"
    }
   ],
   "source": [
    "train_data = read_data('train')\n",
    "print(train_data.shape)\n",
    "\n",
    "train_data"
   ]
  },
  {
   "cell_type": "markdown",
   "metadata": {},
   "source": [
    "## Cleaning Data "
   ]
  },
  {
   "cell_type": "code",
   "execution_count": 5,
   "metadata": {},
   "outputs": [
    {
     "data": {
      "text/html": [
       "<div>\n",
       "<style scoped>\n",
       "    .dataframe tbody tr th:only-of-type {\n",
       "        vertical-align: middle;\n",
       "    }\n",
       "\n",
       "    .dataframe tbody tr th {\n",
       "        vertical-align: top;\n",
       "    }\n",
       "\n",
       "    .dataframe thead th {\n",
       "        text-align: right;\n",
       "    }\n",
       "</style>\n",
       "<table border=\"1\" class=\"dataframe\">\n",
       "  <thead>\n",
       "    <tr style=\"text-align: right;\">\n",
       "      <th></th>\n",
       "      <th>category</th>\n",
       "      <th>text</th>\n",
       "    </tr>\n",
       "  </thead>\n",
       "  <tbody>\n",
       "    <tr>\n",
       "      <th>0</th>\n",
       "      <td>course</td>\n",
       "      <td>\\nCSE 121/131 Home Page\\n\\n\\n CSE 121/131 Home...</td>\n",
       "    </tr>\n",
       "    <tr>\n",
       "      <th>1</th>\n",
       "      <td>course</td>\n",
       "      <td>Date: Tue, 26 Nov 1996 19:10:40 GMT\\nServer: N...</td>\n",
       "    </tr>\n",
       "    <tr>\n",
       "      <th>2</th>\n",
       "      <td>course</td>\n",
       "      <td>Date: Tue, 26 Nov 1996 19:12:30 GMT\\nServer: N...</td>\n",
       "    </tr>\n",
       "    <tr>\n",
       "      <th>3</th>\n",
       "      <td>course</td>\n",
       "      <td>Date: Tuesday, 26-Nov-96 19:09:20 GMT\\nServer:...</td>\n",
       "    </tr>\n",
       "    <tr>\n",
       "      <th>4</th>\n",
       "      <td>course</td>\n",
       "      <td>Date: Tuesday, 26-Nov-96 19:07:04 GMT\\nServer:...</td>\n",
       "    </tr>\n",
       "    <tr>\n",
       "      <th>...</th>\n",
       "      <td>...</td>\n",
       "      <td>...</td>\n",
       "    </tr>\n",
       "    <tr>\n",
       "      <th>2459</th>\n",
       "      <td>student</td>\n",
       "      <td>Date: Tue, 26 Nov 1996 03:44:55 GMT\\nServer: N...</td>\n",
       "    </tr>\n",
       "    <tr>\n",
       "      <th>2460</th>\n",
       "      <td>student</td>\n",
       "      <td>Date: Tue, 26 Nov 1996 03:44:12 GMT\\nServer: N...</td>\n",
       "    </tr>\n",
       "    <tr>\n",
       "      <th>2461</th>\n",
       "      <td>student</td>\n",
       "      <td>Date: Tue, 26 Nov 1996 03:43:32 GMT\\nServer: N...</td>\n",
       "    </tr>\n",
       "    <tr>\n",
       "      <th>2462</th>\n",
       "      <td>student</td>\n",
       "      <td>Date: Tue, 26 Nov 1996 03:43:51 GMT\\nServer: N...</td>\n",
       "    </tr>\n",
       "    <tr>\n",
       "      <th>2463</th>\n",
       "      <td>student</td>\n",
       "      <td>Date: Tue, 26 Nov 1996 03:44:48 GMT\\nServer: N...</td>\n",
       "    </tr>\n",
       "  </tbody>\n",
       "</table>\n",
       "<p>2464 rows × 2 columns</p>\n",
       "</div>"
      ],
      "text/plain": [
       "     category                                               text\n",
       "0      course  \\nCSE 121/131 Home Page\\n\\n\\n CSE 121/131 Home...\n",
       "1      course  Date: Tue, 26 Nov 1996 19:10:40 GMT\\nServer: N...\n",
       "2      course  Date: Tue, 26 Nov 1996 19:12:30 GMT\\nServer: N...\n",
       "3      course  Date: Tuesday, 26-Nov-96 19:09:20 GMT\\nServer:...\n",
       "4      course  Date: Tuesday, 26-Nov-96 19:07:04 GMT\\nServer:...\n",
       "...       ...                                                ...\n",
       "2459  student  Date: Tue, 26 Nov 1996 03:44:55 GMT\\nServer: N...\n",
       "2460  student  Date: Tue, 26 Nov 1996 03:44:12 GMT\\nServer: N...\n",
       "2461  student  Date: Tue, 26 Nov 1996 03:43:32 GMT\\nServer: N...\n",
       "2462  student  Date: Tue, 26 Nov 1996 03:43:51 GMT\\nServer: N...\n",
       "2463  student  Date: Tue, 26 Nov 1996 03:44:48 GMT\\nServer: N...\n",
       "\n",
       "[2464 rows x 2 columns]"
      ]
     },
     "execution_count": 5,
     "metadata": {},
     "output_type": "execute_result"
    }
   ],
   "source": [
    "# remove HTML mark up\n",
    "train_data['extracted'] = train_data['text'].apply(lambda s: BeautifulSoup(s).text)\n",
    "\n",
    "# remove other symbols \n",
    "train_data.replace({'-':'',':':'',',':''}, regex=True)\n",
    "\n",
    "del train_data['text']\n",
    "\n",
    "#rename col \n",
    "train_data.rename(columns = {'extracted':'text',}, inplace = True)\n",
    "\n",
    "train_data"
   ]
  },
  {
   "cell_type": "markdown",
   "metadata": {},
   "source": [
    "## Feature Engineering \n",
    "\n",
    "### bag of words, TF-IDF and naive Bayes "
   ]
  },
  {
   "cell_type": "code",
   "execution_count": 6,
   "metadata": {},
   "outputs": [
    {
     "name": "stdout",
     "output_type": "stream",
     "text": [
      "accurcy: 0.698051948051948\n",
      "precision: 0.8545969948435784\n"
     ]
    }
   ],
   "source": [
    "count_vect = CountVectorizer()\n",
    "\n",
    "X_train_counts = count_vect.fit_transform(train_data['text'])\n",
    "\n",
    "X_train_counts = CountVectorizer().fit_transform(train_data['text'])\n",
    "\n",
    "df = pd.DataFrame.sparse.from_spmatrix(X_train_counts)\n",
    "df.head()\n",
    "\n",
    "transformer = TfidfTransformer().fit(X_train_counts)\n",
    "X_train_tfidf = transformer.transform(X_train_counts)\n",
    "X_train_tfidf.shape\n",
    "\n",
    "clf = MultinomialNB().fit(X_train_tfidf, train_data['category'])\n",
    "\n",
    "test_data = read_data('train')\n",
    "\n",
    "X_test_counts = count_vect.transform(test_data['text'])\n",
    "X_test_tfidf = transformer.transform(X_test_counts)\n",
    "\n",
    "accuracy = clf.score(X_test_tfidf, test_data['category'])\n",
    "print(\"accurcy:\", accuracy)\n",
    "\n",
    "y_pred = clf.predict(X_test_tfidf)\n",
    "precision = precision_score(test_data['category'], y_pred, average='macro')\n",
    "print(\"precision:\", precision)\n"
   ]
  },
  {
   "cell_type": "markdown",
   "metadata": {},
   "source": [
    "## Models"
   ]
  },
  {
   "cell_type": "markdown",
   "metadata": {},
   "source": [
    "### Encoding Data for Cross Validation Testing"
   ]
  },
  {
   "cell_type": "code",
   "execution_count": 7,
   "metadata": {},
   "outputs": [],
   "source": [
    "le = LabelEncoder()\n",
    "le.fit(train_data['category'])\n",
    "pd.Series(le.transform(train_data['category'])).head()\n",
    "\n",
    "categorical = [c for c in train_data.columns if train_data.dtypes[c] == 'object']\n",
    "\n",
    "for c in categorical:\n",
    "    train_data[c] = le.fit_transform(train_data[c])\n",
    "    \n",
    "train_data.head()\n",
    "\n",
    "X = train_data.drop(['category'], axis=1)\n",
    "y = train_data['text'].astype(int)\n",
    "\n",
    "X = train_data.drop(['category'], axis=1)\n",
    "\n",
    "indexes = [train_data.dtypes[c] == 'object' for c in X.columns]\n",
    "\n",
    "enc = ColumnTransformer([\n",
    "    ('onehot', OneHotEncoder(sparse=False), indexes)\n",
    "], remainder='passthrough')\n",
    "\n",
    "enc.fit(X)\n",
    "X = enc.transform(X)\n",
    "X = pd.DataFrame(X)"
   ]
  },
  {
   "cell_type": "markdown",
   "metadata": {},
   "source": [
    "### Baseline model "
   ]
  },
  {
   "cell_type": "code",
   "execution_count": 8,
   "metadata": {},
   "outputs": [
    {
     "name": "stdout",
     "output_type": "stream",
     "text": [
      "[0.44534413 0.44534413 0.44534413 0.44534413 0.44308943 0.44308943\n",
      " 0.44308943 0.44308943 0.44308943 0.44308943]\n",
      "(0.4431584050173491, 0.4448242156995464)\n"
     ]
    }
   ],
   "source": [
    "dummy_clf = DummyClassifier(strategy=\"most_frequent\")\n",
    "dummy_clf.fit(X, train_data['category'])\n",
    "DummyClassifier(strategy='most_frequent')\n",
    "dummy_clf.predict(X)\n",
    "\n",
    "accuracies_dummy_t = cross_val_score(dummy_clf, X, train_data['category'], cv=10)\n",
    "print(accuracies_dummy_t)\n",
    "\n",
    "\n",
    "confidence_baseline_model = st.t.interval(alpha=0.95, df=len(accuracies_dummy_t)-1, loc=np.mean(accuracies_dummy_t), scale=st.sem(accuracies_dummy_t)) \n",
    "\n",
    "print(confidence_baseline_model)"
   ]
  },
  {
   "cell_type": "markdown",
   "metadata": {},
   "source": [
    "#### Ridge Classifier model"
   ]
  },
  {
   "cell_type": "code",
   "execution_count": 9,
   "metadata": {},
   "outputs": [
    {
     "name": "stdout",
     "output_type": "stream",
     "text": [
      "[0.6437247  0.54251012 0.52226721 0.56275304 0.6504065  0.65853659\n",
      " 0.48780488 0.51626016 0.30487805 0.59756098]\n",
      "(0.4736544896484795, 0.6236859533915782)\n"
     ]
    }
   ],
   "source": [
    "liner_clf = RidgeClassifier()\n",
    "accuracies_liner_clf = cross_val_score(liner_clf, X, train_data['category'], cv=10)\n",
    "print(accuracies_liner_clf)\n",
    "\n",
    "confidence_liner_model = st.t.interval(alpha=0.95, df=len(accuracies_liner_clf)-1, loc=np.mean(accuracies_liner_clf), scale=st.sem(accuracies_liner_clf)) \n",
    "\n",
    "print(confidence_liner_model)"
   ]
  },
  {
   "cell_type": "markdown",
   "metadata": {},
   "source": [
    "#### KNeighbors Classifier model"
   ]
  },
  {
   "cell_type": "code",
   "execution_count": 10,
   "metadata": {},
   "outputs": [
    {
     "name": "stdout",
     "output_type": "stream",
     "text": [
      "[0.76923077 0.8097166  0.63562753 0.48178138 0.79674797 0.85365854\n",
      " 0.82520325 0.66260163 0.6504065  0.80487805]\n",
      "(0.6451201831847084, 0.8128502588678901)\n"
     ]
    }
   ],
   "source": [
    "knn = KNeighborsClassifier(n_neighbors = 5)\n",
    "accuracies_KNeighbors = cross_val_score(knn, X, train_data['category'], cv=10)\n",
    "print(accuracies_KNeighbors)\n",
    "\n",
    "confidence_KNeighbors_model = st.t.interval(alpha=0.95, df=len(accuracies_KNeighbors)-1, loc=np.mean(accuracies_KNeighbors), scale=st.sem(accuracies_KNeighbors))\n",
    "print(confidence_KNeighbors_model)"
   ]
  },
  {
   "cell_type": "markdown",
   "metadata": {},
   "source": [
    "### Decision Tree Classifier"
   ]
  },
  {
   "cell_type": "code",
   "execution_count": 11,
   "metadata": {},
   "outputs": [
    {
     "name": "stdout",
     "output_type": "stream",
     "text": [
      "[0.72469636 0.8097166  0.70445344 0.54251012 0.82113821 0.91869919\n",
      " 0.85772358 0.67073171 0.67886179 0.81300813]\n",
      "(0.6752125506540018, 0.833095273314926)\n"
     ]
    }
   ],
   "source": [
    "dt = DecisionTreeClassifier()\n",
    "accuracies_DecisionTree = cross_val_score(dt, X, train_data['category'], cv=10)\n",
    "print(accuracies_DecisionTree)\n",
    "\n",
    "confidence_DecisionTree_model = st.t.interval(alpha=0.95, df=len(accuracies_DecisionTree)-1, loc=np.mean(accuracies_DecisionTree), scale=st.sem(accuracies_DecisionTree)) \n",
    "\n",
    "print(confidence_DecisionTree_model)"
   ]
  },
  {
   "cell_type": "markdown",
   "metadata": {},
   "source": [
    "## Evaluation"
   ]
  },
  {
   "cell_type": "markdown",
   "metadata": {},
   "source": [
    "### T tests Results "
   ]
  },
  {
   "cell_type": "code",
   "execution_count": 12,
   "metadata": {},
   "outputs": [
    {
     "name": "stdout",
     "output_type": "stream",
     "text": [
      "Decision_Tree VS KNeighbors Ttest_relResult(statistic=2.2871901325754562, pvalue=0.04799474716821933)\n",
      "Dummy VS KNeighbors Ttest_relResult(statistic=-7.65640355946695, pvalue=3.1378711660269563e-05)\n",
      "Ridge_Classifier VS KNeighbors Ttest_relResult(statistic=-4.595925703284578, pvalue=0.001298029342901032)\n",
      "Decision_Tree VS Ridge_Classifier Ttest_relResult(statistic=5.3425306592312145, pvalue=0.00046691586930549855)\n",
      "Decision_Tree VS Dummy Ttest_relResult(statistic=8.844881783230347, pvalue=9.8407506669272e-06)\n",
      "Dummy VS Ridge_Classifier Ttest_relResult(statistic=-3.1619988433576482, pvalue=0.011513146536767622)\n"
     ]
    }
   ],
   "source": [
    "\n",
    "Decision_TreeVSKNeighbors = ttest_rel(accuracies_DecisionTree, accuracies_KNeighbors)\n",
    "\n",
    "DummyVSKNeighbors =  ttest_rel(accuracies_dummy_t, accuracies_KNeighbors)\n",
    "\n",
    "Ridge_ClassifierVSKNeighbors =  ttest_rel(accuracies_liner_clf, accuracies_KNeighbors)\n",
    "\n",
    "Decision_TreeVSRidge_Classifier =  ttest_rel(accuracies_DecisionTree, accuracies_liner_clf)\n",
    "\n",
    "Decision_TreeVSDummy=  ttest_rel(accuracies_DecisionTree, accuracies_dummy_t)\n",
    "\n",
    "DummyVSRidge_Classifier =   ttest_rel(accuracies_dummy_t, accuracies_liner_clf)\n",
    "\n",
    "print('Decision_Tree VS KNeighbors', Decision_TreeVSKNeighbors)\n",
    "print('Dummy VS KNeighbors', DummyVSKNeighbors,)\n",
    "print('Ridge_Classifier VS KNeighbors', Ridge_ClassifierVSKNeighbors)\n",
    "print('Decision_Tree VS Ridge_Classifier',Decision_TreeVSRidge_Classifier) \n",
    "print('Decision_Tree VS Dummy', Decision_TreeVSDummy) \n",
    "print('Dummy VS Ridge_Classifier', DummyVSRidge_Classifier)"
   ]
  },
  {
   "cell_type": "markdown",
   "metadata": {},
   "source": [
    "## CSV file"
   ]
  },
  {
   "cell_type": "code",
   "execution_count": 18,
   "metadata": {},
   "outputs": [],
   "source": [
    "import pandas as pd \n",
    "import numpy as np\n",
    "\n",
    "header = ['Decision Tree', 'KNeighbors', 'Ridge', 'Base line']\n",
    "\n",
    "a = np.asarray([ [0.6752125506540018,0.833095273314926,0.81300813], [0.6451201831847084,0.8128502588678901,0.80487805], [0.4736544896484795,0.6236859533915782,0.59756098], [0.4431584050173491, 0.4448242156995464, 0.44308943] ])\n",
    "pd.DataFrame(a).to_csv('featurematrix.csv')"
   ]
  }
 ],
 "metadata": {
  "interpreter": {
   "hash": "7fdffee7d9216152a3ce4928cbf7a2605368dad51766fd0608c27f2a96d552d7"
  },
  "kernelspec": {
   "display_name": "Python 3.9.7 ('base')",
   "language": "python",
   "name": "python3"
  },
  "language_info": {
   "codemirror_mode": {
    "name": "ipython",
    "version": 3
   },
   "file_extension": ".py",
   "mimetype": "text/x-python",
   "name": "python",
   "nbconvert_exporter": "python",
   "pygments_lexer": "ipython3",
   "version": "3.9.7"
  }
 },
 "nbformat": 4,
 "nbformat_minor": 4
}
